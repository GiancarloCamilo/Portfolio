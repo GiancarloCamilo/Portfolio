{
 "cells": [
  {
   "cell_type": "code",
   "execution_count": 1,
   "id": "78b74756",
   "metadata": {},
   "outputs": [],
   "source": [
    "#Import libraries\n",
    "import pandas as pd\n",
    "from bs4 import BeautifulSoup\n",
    "import requests\n",
    "import smtplib\n",
    "import time\n",
    "import datetime\n"
   ]
  },
  {
   "cell_type": "code",
   "execution_count": 2,
   "id": "3a81c8a3",
   "metadata": {},
   "outputs": [
    {
     "name": "stdout",
     "output_type": "stream",
     "text": [
      "Game of Thrones: Colección de 5 libros (Boxset): Canción de Hielo y Fuego: A Game of Thrones, A Clash of Kings, A Storm of Swords, A Feast for Crows, and A Dance with Dragons\n",
      "$746.79\n",
      "4.8 de 5 estrellas\n"
     ]
    }
   ],
   "source": [
    "#Connect website\n",
    "\n",
    "url = \"https://www.amazon.com.mx/Game-Thrones-5-Book-Boxed-Song/dp/0345535529/ref=pd_bxgy_sccl_1/146-5352468-2069949?pd_rd_w=NQ8tR&content-id=amzn1.sym.a51758d3-051e-42e1-bca4-68e7cad5002a&pf_rd_p=a51758d3-051e-42e1-bca4-68e7cad5002a&pf_rd_r=C3ZHSF5CAG0T97NER219&pd_rd_wg=LPjms&pd_rd_r=a554fc92-0cc2-4e5a-b08e-9edb3789344e&pd_rd_i=0345535529&psc=1\"\n",
    "\n",
    "headers = {\"User-Agent\": \"Mozilla/5.0 (Windows NT 10.0; Win64; x64) AppleWebKit/537.36 (KHTML, like Gecko) Chrome/78.0.3904.108 Safari/537.36\", \"Accept-Encoding\":\"gzip, deflate\", \"Accept\":\"text/html,application/xhtml+xml,application/xml;q=0.9,*/*;q=0.8\", \"DNT\":\"1\",\"Connection\":\"close\", \"Upgrade-Insecure-Requests\":\"1\"}\n",
    "\n",
    "page = requests.get(url, headers = headers)\n",
    "\n",
    "htmlcode = BeautifulSoup(page.content, \"html.parser\")\n",
    "\n",
    "soup = BeautifulSoup(htmlcode.prettify(),\"html.parser\")\n",
    "\n",
    "#Getting title, price and rating\n",
    "\n",
    "title = soup.find(id=\"productTitle\").get_text()\n",
    "title = title.strip()\n",
    "price = soup.find(id=\"price\").get_text()\n",
    "price = price.strip()\n",
    "rating = soup.find(id=\"acrPopover\").get_text()\n",
    "rating = rating.strip()\n",
    "today = datetime.date.today()\n",
    "\n",
    "print(title.strip())\n",
    "print(price.strip())\n",
    "print(rating.strip())\n"
   ]
  },
  {
   "cell_type": "code",
   "execution_count": 3,
   "id": "d1f181f7",
   "metadata": {},
   "outputs": [],
   "source": [
    "import csv\n",
    "\n",
    "header = [\"Title\", \"Price\", \"Rating\", \"Date\"]\n",
    "data = [title, price, rating, today]\n",
    "\n",
    "with open(\"AmazonWebScraperData.csv\", \"w\", newline=\"\", encoding = \"UTF-8\") as f:\n",
    "    writer = csv.writer(f)\n",
    "    writer.writerow(header)\n",
    "    writer.writerow(data)"
   ]
  },
  {
   "cell_type": "code",
   "execution_count": 4,
   "id": "55ea7291",
   "metadata": {},
   "outputs": [],
   "source": [
    "#Append data to CSV\n",
    "with open(\"AmazonWebScraperData.csv\", \"a+\", newline=\"\", encoding = \"UTF-8\") as f:\n",
    "    writer = csv.writer(f)\n",
    "    writer.writerow(data)"
   ]
  },
  {
   "cell_type": "code",
   "execution_count": 5,
   "id": "d198548a",
   "metadata": {},
   "outputs": [],
   "source": [
    "def check_price():\n",
    "    \n",
    "    url = \"https://www.amazon.com.mx/Game-Thrones-5-Book-Boxed-Song/dp/0345535529/ref=pd_bxgy_sccl_1/146-5352468-2069949?pd_rd_w=NQ8tR&content-id=amzn1.sym.a51758d3-051e-42e1-bca4-68e7cad5002a&pf_rd_p=a51758d3-051e-42e1-bca4-68e7cad5002a&pf_rd_r=C3ZHSF5CAG0T97NER219&pd_rd_wg=LPjms&pd_rd_r=a554fc92-0cc2-4e5a-b08e-9edb3789344e&pd_rd_i=0345535529&psc=1\"\n",
    "    headers = {\"User-Agent\": \"Mozilla/5.0 (Windows NT 10.0; Win64; x64) AppleWebKit/537.36 (KHTML, like Gecko) Chrome/78.0.3904.108 Safari/537.36\", \"Accept-Encoding\":\"gzip, deflate\", \"Accept\":\"text/html,application/xhtml+xml,application/xml;q=0.9,*/*;q=0.8\", \"DNT\":\"1\",\"Connection\":\"close\", \"Upgrade-Insecure-Requests\":\"1\"}\n",
    "    page = requests.get(url, headers = headers)\n",
    "    htmlcode = BeautifulSoup(page.content, \"html.parser\")\n",
    "    soup = BeautifulSoup(htmlcode.prettify(),\"html.parser\")\n",
    "    title = soup.find(id=\"productTitle\").get_text()\n",
    "    title = title.strip()\n",
    "    price = soup.find(id=\"price\").get_text()\n",
    "    price = price.strip()\n",
    "    rating = soup.find(id=\"acrPopover\").get_text()\n",
    "    rating = rating.strip()\n",
    "    import datetime\n",
    "    today = datetime.date.today()\n",
    "    import csv\n",
    "    header = [\"Title\", \"Price\", \"Rating\", \"Date\"]\n",
    "    data = [title, price, rating, today]\n",
    "    with open(\"AmazonWebScraperData.csv\", \"a+\", newline=\"\", encoding = \"UTF-8\") as f:\n",
    "        writer = csv.writer(f)\n",
    "        writer.writerow(data)"
   ]
  },
  {
   "cell_type": "code",
   "execution_count": null,
   "id": "ec18b15f",
   "metadata": {},
   "outputs": [],
   "source": [
    "while(True):\n",
    "    check_price()\n",
    "    time.sleep(86400)"
   ]
  },
  {
   "cell_type": "code",
   "execution_count": null,
   "id": "923681a6",
   "metadata": {},
   "outputs": [],
   "source": [
    "import pandas as pd\n",
    "\n",
    "df = pd.read_csv(\"C:\\Users\\Giancarlo\\AmazonWebScraperData.csv\")\n",
    "\n",
    "df.head()"
   ]
  },
  {
   "cell_type": "code",
   "execution_count": null,
   "id": "1ebb0f9d",
   "metadata": {},
   "outputs": [],
   "source": []
  }
 ],
 "metadata": {
  "kernelspec": {
   "display_name": "Python 3 (ipykernel)",
   "language": "python",
   "name": "python3"
  },
  "language_info": {
   "codemirror_mode": {
    "name": "ipython",
    "version": 3
   },
   "file_extension": ".py",
   "mimetype": "text/x-python",
   "name": "python",
   "nbconvert_exporter": "python",
   "pygments_lexer": "ipython3",
   "version": "3.9.12"
  }
 },
 "nbformat": 4,
 "nbformat_minor": 5
}
